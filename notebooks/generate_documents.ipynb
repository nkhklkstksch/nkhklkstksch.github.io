{
 "cells": [
  {
   "cell_type": "code",
   "execution_count": 33,
   "metadata": {},
   "outputs": [],
   "source": [
    "from bs4 import BeautifulSoup"
   ]
  },
  {
   "cell_type": "code",
   "execution_count": 34,
   "metadata": {},
   "outputs": [
    {
     "data": {
      "text/plain": [
       "<!DOCTYPE html>\n",
       "<html dir=\"ltr\" lang=\"{content_language}\">\n",
       "<head>\n",
       "<meta charset=\"utf-8\"/>\n",
       "<meta content=\"width=device-width, initial-scale=1.0\" name=\"viewport\"/>\n",
       "<!-- style -->\n",
       "<link href=\"https://nkhklkstksch.xyz/styles/style_master.css\" rel=\"stylesheet\"/>\n",
       "<!-- fonts -->\n",
       "<link href=\"https://fonts.googleapis.com\" rel=\"preconnect\"/>\n",
       "<link crossorigin=\"\" href=\"https://fonts.gstatic.com\" rel=\"preconnect\"/>\n",
       "<link href=\"https://fonts.googleapis.com/css2?family=Lexend:wght@100;200;300;400;500;600;700;800;900&amp;family=Red+Hat+Mono:ital,wght@0,300;0,400;0,500;0,600;0,700;1,300;1,400;1,500;1,600;1,700&amp;display=swap\" rel=\"stylesheet\"/>\n",
       "<!-- color_symbols -->\n",
       "<!--link rel=\"stylesheet\" href=\"https://fonts.googleapis.com/css2?family=Material+color_symbols+Rounded:opsz,wght,FILL,GRAD@20..48,100..700,0..1,-50..200\"-->\n",
       "<link href=\"https://fonts.googleapis.com\" rel=\"preconnect\"/>\n",
       "<link crossorigin=\"\" href=\"https://fonts.gstatic.com\" rel=\"preconnect\"/>\n",
       "<link href=\"https://fonts.googleapis.com/css2?family=Noto+Emoji:wght@300;400;500;600;700&amp;display=swap\" rel=\"stylesheet\"/>\n",
       "<link href=\"https://fonts.googleapis.com\" rel=\"preconnect\"/>\n",
       "<link crossorigin=\"\" href=\"https://fonts.gstatic.com\" rel=\"preconnect\"/>\n",
       "<link href=\"https://fonts.googleapis.com/css2?family=Noto+Color+Emoji&amp;display=swap\" rel=\"stylesheet\"/>\n",
       "<title>{content_title}</title>\n",
       "</head><body><p>\n",
       "\n",
       "\n",
       "\n",
       "{content_body}\n",
       "\n",
       "\n",
       "\n",
       "</p></body></html>"
      ]
     },
     "execution_count": 34,
     "metadata": {},
     "output_type": "execute_result"
    }
   ],
   "source": [
    "document_directory = \"../documents/\"\n",
    "template_document = open(f\"{document_directory}template_document.html\", \"r\").read()\n",
    "BeautifulSoup(template_document)"
   ]
  },
  {
   "cell_type": "code",
   "execution_count": 35,
   "metadata": {},
   "outputs": [],
   "source": [
    "# contact_card.content_language\n",
    "content_language = \"en\"\n",
    "\n",
    "# contact_card.content_title\n",
    "content_title = \"contact_card\"\n",
    "\n",
    "# contact_card.content_body\n",
    "# return project_section.id == section_name (contact_card)\n",
    "# .content_body\n",
    "# for vertex, edge, path in static_portfolio\n",
    "# query_data = aql.execute(build_query)\n",
    "# content_body = open(query_data, \"r\").read()\n",
    "content_body = open(\"../documents/contact_card.xml\", \"r\").read()\n"
   ]
  },
  {
   "cell_type": "code",
   "execution_count": 36,
   "metadata": {},
   "outputs": [
    {
     "data": {
      "text/plain": [
       "'<body class=\"dark board\">\\n\\n    <main class=\"content\"></main>\\n\\n        <header class=\"collage\">\\n\\n            <button class=\"mode\" onclick=\"toggle_mode()\">🌓</button>\\n            <button class=\"portfolio\" onclick=\"location.href=\\'./Users/nkhklkstksch/Desktop/store_active/repositories/public_portfolio.github.io/portfolio.html\\'\">portfolio</button>\\n\\n        </header>\\n\\n        <section class=\"canvas\">\\n\\n            <span class=\"topic\">\\n                <h1 class=\"headings\"><em>nkhklkstksch</em><br>contact card<br></h1>\\n                <span class=\"symbols\"><h3 class=\"symbols\">📡</h3></span>\\n            \\n\\n            <small>\\n\\n                <em>design signature stablished in october 2022. <br>temporary static rendezvous point for communication purposes.</em><br>\\n                <!-- go to deep net service here: ...-->\\n                <br>\\n\\n                <h5>contact</h5>\\n\\n                <section class=\"element\">\\n                    <code class=\"platform\"><a href=\"https://www.facebook.com/nkhklkstksch\">facebook</a></code>\\n                    <code class=\"platform\"><a href=\"https://www.instagram.com/nkhklkstksch/\">instagram</a></code>\\n                    <code class=\"platform\"><a href=\"https://mastodon.social/web/@nkhklkstksch\">mastodon</a></code>\\n                    <code class=\"platform\"><a href=\"https://twitter.com/nkhklkstksch\">twitter</a></code>\\n                </section><br>\\n\\n                <section class=\"element\">\\n                    <code>\\n                        <a href=\"https://github.com/nkhklkstksch\">github</a>\\n                    </code>\\n                    <code>\\n                        <a href=\"nkhklkstksch@icloud.com\">e-mail</a>\\n                    </code>\\n                </section>\\n\\n            </small>\\n\\n            </span>\\n\\n            <!--span class=\"layout\" id=\"layout\"></span-->\\n\\n        </section>\\n\\n        <footer class=\"map\">\\n\\n            <span class=\"topic\">\\n        </span>\\n\\n        </footer>\\n\\n    </main>\\n\\n    \\n\\n\\n\\n\\n    <script>\\n        var wrapper = document.getElementById(\"layout\");\\n        for (var i = 0; i < 81; i++) {\\n            var span = document.createElement(\"span\");\\n            wrapper.appendChild(span);\\n        }\\n        function toggle_mode() {\\n            const body = document.body;\\n            body.classList.toggle(\"dark\");\\n            body.classList.toggle(\"light\");\\n        }\\n    </script>\\n\\n    <!--toggle color mode button\\n\\n        function toggle_mode() {\\n            const body = document.body;\\n            body.classList.toggle(\"dark\");\\n            body.classList.toggle(\"light\");\\n        }\\n    -->\\n</body>'"
      ]
     },
     "execution_count": 36,
     "metadata": {},
     "output_type": "execute_result"
    }
   ],
   "source": [
    "content_body"
   ]
  },
  {
   "cell_type": "code",
   "execution_count": 37,
   "metadata": {},
   "outputs": [],
   "source": [
    "template_document = template_document.format(\n",
    "    content_language=content_language, \n",
    "    content_title=content_title, \n",
    "    content_body=content_body,)"
   ]
  },
  {
   "cell_type": "code",
   "execution_count": 38,
   "metadata": {},
   "outputs": [],
   "source": [
    "save_file = open(f\"{document_directory}{content_title}.html\", \"w\")"
   ]
  },
  {
   "cell_type": "code",
   "execution_count": 39,
   "metadata": {},
   "outputs": [
    {
     "data": {
      "text/plain": [
       "<_io.TextIOWrapper name='../documents/contact_card.html' mode='w' encoding='UTF-8'>"
      ]
     },
     "execution_count": 39,
     "metadata": {},
     "output_type": "execute_result"
    }
   ],
   "source": [
    "save_file"
   ]
  },
  {
   "cell_type": "code",
   "execution_count": 40,
   "metadata": {},
   "outputs": [
    {
     "data": {
      "text/plain": [
       "3978"
      ]
     },
     "execution_count": 40,
     "metadata": {},
     "output_type": "execute_result"
    }
   ],
   "source": [
    "save_file.write(template_document)"
   ]
  },
  {
   "cell_type": "code",
   "execution_count": 41,
   "metadata": {},
   "outputs": [],
   "source": [
    "save_file.close()"
   ]
  },
  {
   "cell_type": "code",
   "execution_count": null,
   "metadata": {},
   "outputs": [],
   "source": []
  },
  {
   "cell_type": "code",
   "execution_count": null,
   "metadata": {},
   "outputs": [],
   "source": []
  },
  {
   "cell_type": "code",
   "execution_count": null,
   "metadata": {},
   "outputs": [],
   "source": []
  }
 ],
 "metadata": {
  "kernelspec": {
   "display_name": "repositories",
   "language": "python",
   "name": "python3"
  },
  "language_info": {
   "codemirror_mode": {
    "name": "ipython",
    "version": 3
   },
   "file_extension": ".py",
   "mimetype": "text/x-python",
   "name": "python",
   "nbconvert_exporter": "python",
   "pygments_lexer": "ipython3",
   "version": "3.11.4"
  },
  "orig_nbformat": 4
 },
 "nbformat": 4,
 "nbformat_minor": 2
}
