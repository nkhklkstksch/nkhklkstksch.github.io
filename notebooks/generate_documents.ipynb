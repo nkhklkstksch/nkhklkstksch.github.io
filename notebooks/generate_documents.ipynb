{
 "cells": [
  {
   "cell_type": "markdown",
   "metadata": {},
   "source": [
    "# **make html documents**"
   ]
  },
  {
   "cell_type": "code",
   "execution_count": 440,
   "metadata": {},
   "outputs": [],
   "source": [
    "from bs4 import BeautifulSoup"
   ]
  },
  {
   "cell_type": "markdown",
   "metadata": {},
   "source": [
    "### data structure"
   ]
  },
  {
   "cell_type": "code",
   "execution_count": 286,
   "metadata": {},
   "outputs": [],
   "source": [
    "# contact_card.content_language\n",
    "# content_language = \"en\"\n",
    "\n",
    "# contact_card.content_title\n",
    "# content_title = \"contact_card\"\n",
    "\n",
    "# contact_card.content_body\n",
    "# return project_section.id == section_name (contact_card)\n",
    "# .content_body\n",
    "# for vertex, edge, path in static_portfolio\n",
    "# query_data = aql.execute(build_query)\n",
    "# content_body = open(query_data, \"r\").read()\n",
    "# content_body = open(f\"{root_directory}documents/contact_card.xml\", \"r\").read()"
   ]
  },
  {
   "cell_type": "markdown",
   "metadata": {},
   "source": [
    "### process documents"
   ]
  },
  {
   "cell_type": "code",
   "execution_count": 490,
   "metadata": {},
   "outputs": [],
   "source": [
    "localhost_directory = \"/Library/WebServer/Documents/\"\n",
    "root_directory = \"../\"\n",
    "web_directory = \"https://nkhklkstksch.xyz/\"\n",
    "# root_directory = \"/Users/nkhklkstksch/Desktop/store_active/repositories/public_portfolio.github.io/\"\n",
    "\n",
    "style_name = \"layout_style\"\n",
    "handle_style = open(f\"{root_directory}styles/{style_name}.css\", \"r\").read()\n",
    "\n",
    "root_style = open(f\"{root_directory}styles/{style_name}.css\", \"w\")\n",
    "root_style.write(handle_style)\n",
    "root_style.close()\n",
    "\n",
    "localhost_style = open(f\"{localhost_directory}styles/{style_name}.css\", \"w\")\n",
    "localhost_style.write(handle_style)\n",
    "localhost_style.close()\n",
    "\n",
    "template_document = open(f\"{root_directory}/documents/template_document.html\", \"r\").read()"
   ]
  },
  {
   "cell_type": "code",
   "execution_count": 488,
   "metadata": {},
   "outputs": [],
   "source": [
    "content_language = \"en\"\n",
    "content_title = \"index\"\n",
    "content_body = open(f\"{root_directory}documents/index.xml\", \"r\").read()\n",
    "\n",
    "root_document = template_document.format(\n",
    "    content_language=content_language, \n",
    "    content_directory=web_directory,\n",
    "    content_title=content_title, \n",
    "    content_body=content_body,)\n",
    "write_root = open(f\"{root_directory}index.html\", \"w\")\n",
    "write_root.write(root_document)\n",
    "write_root.close()\n",
    "\n",
    "localhost_document = template_document.format(\n",
    "    content_language=content_language, \n",
    "    content_directory=\"./\",\n",
    "    content_title=content_title, \n",
    "    content_body=content_body,)\n",
    "write_localhost = open(f\"{localhost_directory}index.html\", \"w\")\n",
    "write_localhost.write(localhost_document)\n",
    "write_localhost.close()"
   ]
  },
  {
   "cell_type": "code",
   "execution_count": 489,
   "metadata": {},
   "outputs": [],
   "source": [
    "content_language = \"en\"\n",
    "content_title = \"layout_style\"\n",
    "content_body = open(f\"{root_directory}documents/{content_title}.xml\", \"r\").read()\n",
    "\n",
    "root_document = template_document.format(\n",
    "    content_language=content_language,\n",
    "    content_directory=web_directory,\n",
    "    content_title=content_title,\n",
    "    content_body=content_body,)\n",
    "write_root = open(f\"{root_directory}documents/{content_title}.html\", \"w\")\n",
    "write_root.write(root_document)\n",
    "write_root.close()\n",
    "\n",
    "localhost_document = template_document.format(\n",
    "    content_language=content_language,\n",
    "    content_directory=root_directory,\n",
    "    content_title=content_title,\n",
    "    content_body=content_body,)\n",
    "write_localhost = open(f\"{localhost_directory}documents/{content_title}.html\", \"w\")\n",
    "write_localhost.write(localhost_document)\n",
    "write_localhost.close()"
   ]
  },
  {
   "cell_type": "markdown",
   "metadata": {},
   "source": [
    "### new"
   ]
  },
  {
   "cell_type": "markdown",
   "metadata": {},
   "source": [
    "content_language = \"en\"\n",
    "content_title = \"layout_style\"\n",
    "content_body = open(f\"{root_directory}documents/{content_title}.xml\", \"r\").read()\n",
    "\n",
    "root_document = template_document.format(\n",
    "    content_language=content_language, \n",
    "    content_directory=web_directory,\n",
    "    content_title=content_title, \n",
    "    content_body=content_body,)\n",
    "write_root = open(f\"{root_directory}documents/{content_title}.html\", \"w\")\n",
    "write_root.write(root_document)\n",
    "write_root.close()\n",
    "\n",
    "localhost_document = template_document.format(\n",
    "    content_language=content_language,\n",
    "    content_directory=root_directory,\n",
    "    content_title=content_title,\n",
    "    content_body=content_body,)\n",
    "write_localhost = open(f\"{localhost_directory}documents/{content_title}.html\", \"w\")\n",
    "write_localhost.write(root_directory)\n",
    "write_localhost.close()"
   ]
  },
  {
   "cell_type": "code",
   "execution_count": null,
   "metadata": {},
   "outputs": [],
   "source": []
  }
 ],
 "metadata": {
  "kernelspec": {
   "display_name": "repositories",
   "language": "python",
   "name": "python3"
  },
  "language_info": {
   "codemirror_mode": {
    "name": "ipython",
    "version": 3
   },
   "file_extension": ".py",
   "mimetype": "text/x-python",
   "name": "python",
   "nbconvert_exporter": "python",
   "pygments_lexer": "ipython3",
   "version": "3.11.4"
  },
  "orig_nbformat": 4
 },
 "nbformat": 4,
 "nbformat_minor": 2
}
