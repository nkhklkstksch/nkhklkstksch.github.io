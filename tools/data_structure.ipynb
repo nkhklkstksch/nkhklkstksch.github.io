{
 "cells": [
  {
   "cell_type": "markdown",
   "id": "35bb87fd",
   "metadata": {},
   "source": [
    "# **data structure**"
   ]
  },
  {
   "cell_type": "code",
   "execution_count": 1,
   "id": "4dff123d",
   "metadata": {},
   "outputs": [],
   "source": [
    "import os\n",
    "import tektology"
   ]
  },
  {
   "cell_type": "markdown",
   "id": "1a4defe4",
   "metadata": {},
   "source": [
    "## draft"
   ]
  },
  {
   "cell_type": "markdown",
   "id": "9385b237-ca76-4bae-b763-3198ad6c76c1",
   "metadata": {},
   "source": [
    "<code>\n",
    "\n",
    "./  \n",
    "c: ./index.html  \n",
    "./LICENSE  \n",
    "./README.md  \n",
    "\n",
    "./styles/  \n",
    "./layout_template.html  \n",
    "./layout_style.css  \n",
    "\n",
    "./estates/  \n",
    "../styles/layout_style.css  \n",
    "../index.html <> ./estates.html <> each state  \n",
    "m: ./estates/estates.html  \n",
    "b: ./estates/dukhang.html  \n",
    "b: ./estates/rejon.html  \n",
    "\n",
    "./products/  \n",
    "../styles/layout_style.css  \n",
    "../index.html <> ./products.html <> each product  \n",
    "m: ./products/products.html  \n",
    "b: ./products/ceramics.html  \n",
    "r: ./products/ceramics_000.png  \n",
    "b: ./products/leather.html  \n",
    "\n",
    "./brands/  \n",
    "../styles/layout_style.css  \n",
    "../index.html <> ./brands.html <> each brand  \n",
    "m: ./brands/brands.html  \n",
    "b: ./brands/collectivo_lechuza.html  \n",
    "b: ./brands/nkhklkstksch_signature.html  \n",
    "\n",
    "./tools/  \n",
    "../styles/layout_style.css  \n",
    "../index.html <> ./tools.html <> each tool  \n",
    "m: ./tools/tools.html  \n",
    "b: ./tools/modular_system.html  \n",
    "b: ./tools/tektology_package.html  \n",
    "b: ./tools/quadrille_script.html  \n",
    "b: ./tools/language_training.html  \n",
    "\n",
    "./publications/  \n",
    "../styles/layout_style.css  \n",
    "\n",
    "./networks/  \n",
    "../styles/layout_style.css  \n",
    "../index.html <> ./networks.html <> each network  \n",
    "m: ./networks/networks.html  \n",
    "c: ./networks/community_zero.html  \n",
    "c: ./networks/product_distribution.html  \n",
    "\n",
    "./secrets/  \n",
    "../styles/layout_style.css  \n",
    "c: ./secrets/portfolio.html (only if access is provided)  \n",
    "c: ./secrets/platform.html  \n",
    "</code>\n"
   ]
  },
  {
   "cell_type": "markdown",
   "id": "d2214e3b",
   "metadata": {},
   "source": []
  },
  {
   "cell_type": "markdown",
   "id": "e55556da-fccf-43b6-a7b4-d8416d65f066",
   "metadata": {},
   "source": [
    "## test"
   ]
  },
  {
   "cell_type": "code",
   "execution_count": 5,
   "id": "d1187e25",
   "metadata": {},
   "outputs": [],
   "source": [
    "root = \"../../\"\n",
    "repositories = sorted([item for item in os.listdir(root) if item.islower()])[:3]"
   ]
  },
  {
   "cell_type": "code",
   "execution_count": 6,
   "id": "ac3fe571",
   "metadata": {},
   "outputs": [
    {
     "data": {
      "text/plain": [
       "['design_works', 'modular_system', 'outsourcing_services']"
      ]
     },
     "execution_count": 6,
     "metadata": {},
     "output_type": "execute_result"
    }
   ],
   "source": [
    "repositories"
   ]
  },
  {
   "cell_type": "markdown",
   "id": "6aa82a0e",
   "metadata": {},
   "source": [
    "## process boards"
   ]
  },
  {
   "cell_type": "markdown",
   "id": "dd8af48f",
   "metadata": {},
   "source": [
    "### create data"
   ]
  },
  {
   "cell_type": "code",
   "execution_count": null,
   "id": "26ccff10",
   "metadata": {},
   "outputs": [],
   "source": [
    "document_structure\n",
    "\n",
    "input data\n"
   ]
  },
  {
   "cell_type": "code",
   "execution_count": null,
   "id": "204d9003",
   "metadata": {},
   "outputs": [],
   "source": [
    "# contact_card.content_language\n",
    "# content_language = \"en\"\n",
    "\n",
    "# contact_card.content_title\n",
    "# content_title = \"contact_card\"\n",
    "\n",
    "# contact_card.content_body\n",
    "# return project_section.id == section_name (contact_card)\n",
    "# .content_body\n",
    "# for vertex, edge, path in static_portfolio\n",
    "# query_data = aql.execute(build_query)\n",
    "# content_body = open(query_data, \"r\").read()\n",
    "# content_body = open(f\"{root_directory}documents/contact_card.xml\", \"r\").read()"
   ]
  }
 ],
 "metadata": {
  "kernelspec": {
   "display_name": "Python 3 (ipykernel)",
   "language": "python",
   "name": "python3"
  },
  "language_info": {
   "codemirror_mode": {
    "name": "ipython",
    "version": 3
   },
   "file_extension": ".py",
   "mimetype": "text/x-python",
   "name": "python",
   "nbconvert_exporter": "python",
   "pygments_lexer": "ipython3",
   "version": "3.11.4"
  }
 },
 "nbformat": 4,
 "nbformat_minor": 5
}
